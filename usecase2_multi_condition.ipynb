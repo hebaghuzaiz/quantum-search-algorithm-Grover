#2 use case:

# !pip install qiskit qiskit-aer pylatexenc
%matplotlib inline
from qiskit import QuantumCircuit, transpile
from qiskit_aer import AerSimulator
from qiskit.visualization import plot_histogram
import matplotlib.pyplot as plt

# Dataset (16 entries)
vendors = [
    {"Vendor": "businessdude", "Category": "Services/Hacking", "Rating": 4.88},
    {"Vendor": "CheapPayTV", "Category": "Services/Hacking", "Rating": 4.96},
    {"Vendor": "cyberzen", "Category": "Services/Hacking", "Rating": 4.89},
    {"Vendor": "DrawkwarD", "Category": "Data/Accounts", "Rating": 4.996},
    {"Vendor": "gene001", "Category": "Drugs/Cannabis/Weed", "Rating": 4.892},
    {"Vendor": "Hackyboy", "Category": "Services/Hacking", "Rating": 4.92},
    {"Vendor": "HumanTraffic-Jip", "Category": "Services/Money", "Rating": 4.95},
    {"Vendor": "Jack_N_Hoff", "Category": "Drugs/RCs", "Rating": 4.94},
    {"Vendor": "KryptykOG", "Category": "Services/Hacking", "Rating": 4.93},
    {"Vendor": "mssource", "Category": "Drugs/RCs", "Rating": 4.95},
    {"Vendor": "NotoSeller", "Category": "Data/Accounts", "Rating": 4.92},
    {"Vendor": "only", "Category": "Tobacco/Smoked", "Rating": 4.89},
    {"Vendor": "rc4me", "Category": "Drugs/RCs", "Rating": 5.0},
    {"Vendor": "thesecretsociety", "Category": "Data/Accounts", "Rating": 4.58},
    {"Vendor": "VendingSolutions", "Category": "Services/Money", "Rating": 4.29},
    {"Vendor": "vendorz", "Category": "Drugs/Cannabis/Weed", "Rating": 4.614}
]

# Step 1: Find matching entries
target_category = "Services/Hacking"
rating_threshold = 4.9
matching_indices = [
    f"{i:04b}" for i, entry in enumerate(vendors)
    if entry["Category"] == target_category and entry["Rating"] > rating_threshold
]
print("Matching indices:", matching_indices)

# Step 2: Build Oracle (multi-target)
def build_oracle(indices):
    oracle = QuantumCircuit(4)
    for binary in indices:
        for i, bit in enumerate(reversed(binary)):
            if bit == '0':
                oracle.x(i)
        oracle.h(3)
        oracle.mcx([0, 1, 2], 3)
        oracle.h(3)
        for i, bit in enumerate(reversed(binary)):
            if bit == '0':
                oracle.x(i)
    return oracle

# Step 3: Build Diffuser
def build_diffuser():
    qc = QuantumCircuit(4)
    qc.h(range(4))
    qc.x(range(4))
    qc.h(3)
    qc.mcx([0, 1, 2], 3)
    qc.h(3)
    qc.x(range(4))
    qc.h(range(4))
    return qc

#  Show Oracle Circuit
print("Oracle Subcircuit (Multi-Target):")
oracle_circuit = build_oracle(matching_indices)
fig1, ax1 = plt.subplots(figsize=(10, 3))
oracle_circuit.draw("mpl", ax=ax1)
plt.show()

#  Show Diffuser Circuit
print("Diffuser Subcircuit:")
diffuser_circuit = build_diffuser()
fig2, ax2 = plt.subplots(figsize=(10, 3))
diffuser_circuit.draw("mpl", ax=ax2)
plt.show()

# Convert to labeled gates
oracle_gate = oracle_circuit.to_gate(label="Oracle")
diffuser_gate = diffuser_circuit.to_gate(label="Diffuser")

# Step 4: Build full Grover circuit
qc = QuantumCircuit(4, 4)
qc.h([0, 1, 2, 3])
qc.append(oracle_gate, [0, 1, 2, 3])
qc.append(diffuser_gate, [0, 1, 2, 3])
qc.measure([0, 1, 2, 3], [0, 1, 2, 3])

# Step 5: Show circuit
print("Full Grover Circuit:")
fig3, ax3 = plt.subplots(figsize=(12, 4))
qc.draw("mpl", ax=ax3)
plt.show()

# Step 6: Run simulation
simulator = AerSimulator()
compiled = transpile(qc, simulator)
result = simulator.run(compiled, shots=1024).result()
counts = result.get_counts()

# Step 7: Show histogram
print("Histogram of Quantum Search Results:")
fig4, ax4 = plt.subplots(figsize=(6, 4))
plot_histogram(counts, ax=ax4)
plt.show()

# Step 8: Output results
for binary, count in sorted(counts.items(), key=lambda x: x[1], reverse=True):
    if binary in matching_indices:
        idx = int(binary, 2)
        vendor = vendors[idx]
        print(f"Match: {binary} (Index {idx}) → Vendor: {vendor['Vendor']} | Rating: {vendor['Rating']}")


