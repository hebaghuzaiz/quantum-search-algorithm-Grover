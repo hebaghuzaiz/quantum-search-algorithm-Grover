#1 use case:

 !pip install qiskit
 !pip install qiskit-aer
 !pip install pylatexenc
%matplotlib inline
from qiskit import QuantumCircuit, transpile
from qiskit_aer import AerSimulator
from qiskit.visualization import plot_histogram
import matplotlib.pyplot as plt

# Dataset (16 entries)
data = [
    {"Vendor": "businessdude", "Rating": 4.88},
    {"Vendor": "CheapPayTV", "Rating": 4.96},
    {"Vendor": "cyberzen", "Rating": 4.89},
    {"Vendor": "DrawkwarD", "Rating": 4.996},
    {"Vendor": "gene001", "Rating": 4.892},
    {"Vendor": "Hackyboy", "Rating": 4.92},
    {"Vendor": "HumanTraffic-Jip", "Rating": 4.95},
    {"Vendor": "Jack_N_Hoff", "Rating": 4.94},
    {"Vendor": "KryptykOG", "Rating": 4.93},
    {"Vendor": "mssource", "Rating": 4.95},
    {"Vendor": "NotoSeller", "Rating": 4.92},
    {"Vendor": "only", "Rating": 4.89},
    {"Vendor": "rc4me", "Rating": 5.0},
    {"Vendor": "thesecretsociety", "Rating": 4.58},
    {"Vendor": "VendingSolutions", "Rating": 4.29},
    {"Vendor": "vendorz", "Rating": 4.614}
]

# Highest rating logic
highest_rating = max(entry['Rating'] for entry in data)
target_index = next(i for i, entry in enumerate(data) if entry['Rating'] == highest_rating)
target_binary = f"{target_index:04b}"
print(f"Target: Vendor with highest rate (Binary Index: {target_binary})")

# Oracle function
def create_oracle(index_bin):
    oracle = QuantumCircuit(4)
    for i, bit in enumerate(reversed(index_bin)):
        if bit == '0':
            oracle.x(i)
    oracle.h(3)
    oracle.mcx([0, 1, 2], 3)
    oracle.h(3)
    for i, bit in enumerate(reversed(index_bin)):
        if bit == '0':
            oracle.x(i)
    return oracle

# Diffuser function
def create_diffuser():
    diffuser = QuantumCircuit(4)
    diffuser.h([0, 1, 2, 3])
    diffuser.x([0, 1, 2, 3])
    diffuser.h(3)
    diffuser.mcx([0, 1, 2], 3)
    diffuser.h(3)
    diffuser.x([0, 1, 2, 3])
    diffuser.h([0, 1, 2, 3])
    return diffuser

# Draw Oracle circuit separately
print("Oracle Subcircuit:")
oracle_circuit = create_oracle(target_binary)
fig1, ax1 = plt.subplots(figsize=(8, 3))
oracle_circuit.draw("mpl", ax=ax1)
plt.show()

# Draw Diffuser circuit separately
print("Diffuser Subcircuit:")
diffuser_circuit = create_diffuser()
fig2, ax2 = plt.subplots(figsize=(8, 3))
diffuser_circuit.draw("mpl", ax=ax2)
plt.show()

# Convert to gates for main circuit
oracle_gate = oracle_circuit.to_gate(label="Oracle")
diffuser_gate = diffuser_circuit.to_gate(label="Diffuser")

# Build Grover circuit
qc = QuantumCircuit(4, 4)
qc.h([0, 1, 2, 3])
qc.append(oracle_gate, [0, 1, 2, 3])
qc.append(diffuser_gate, [0, 1, 2, 3])
qc.measure([0, 1, 2, 3], [0, 1, 2, 3])

# Show full circuit
print("Full Grover Circuit:")
fig3, ax3 = plt.subplots(figsize=(12, 4))
qc.draw("mpl", ax=ax3)
plt.show()

# Run simulation
simulator = AerSimulator()
compiled = transpile(qc, simulator)
result = simulator.run(compiled, shots=1024).result()
counts = result.get_counts()

# Plot histogram
print("Histogram of Quantum Search Results:")
fig4, ax4 = plt.subplots(figsize=(6, 4))
plot_histogram(counts, ax=ax4)
plt.show()

# Output result
most_likely = max(counts, key=counts.get)
decimal_index = int(most_likely, 2)
print(f"\nMost measurement result: {most_likely} (Decimal index: {decimal_index})")
print(f"Vendor: {data[decimal_index]['Vendor']} - Rating: {data[decimal_index]['Rating']}")
